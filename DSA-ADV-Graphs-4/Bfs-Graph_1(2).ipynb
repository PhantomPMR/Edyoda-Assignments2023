{
 "cells": [
  {
   "cell_type": "code",
   "execution_count": 4,
   "metadata": {},
   "outputs": [
    {
     "name": "stdout",
     "output_type": "stream",
     "text": [
      "BFS Traversal:\n",
      "0 "
     ]
    }
   ],
   "source": [
    "import queue\n",
    "\n",
    "def bfs(graph, start):\n",
    "    num_vertices = len(graph)\n",
    "    visited = set()\n",
    "    q = queue.Queue()\n",
    "    q.put(start)\n",
    "    visited.add(start)\n",
    "\n",
    "    while not q.empty():\n",
    "        vertex = q.get()\n",
    "        print(vertex, end=\" \")\n",
    "\n",
    "        for neighbor in range(num_vertices):\n",
    "            if graph[vertex][neighbor] == 1 and neighbor not in visited:\n",
    "                q.put(neighbor)\n",
    "                visited.add(neighbor)\n",
    "\n",
    "num_vertices = int(input(\"Enter the number of vertices: \"))\n",
    "graph = [list(map(int, input().split())) for _ in range(num_vertices)]\n",
    "\n",
    "start_vertex = int(input(\"Enter the starting vertex: \"))\n",
    "print(\"BFS Traversal:\")\n",
    "bfs(graph, start_vertex)\n"
   ]
  }
 ],
 "metadata": {
  "kernelspec": {
   "display_name": "Python 3",
   "language": "python",
   "name": "python3"
  },
  "language_info": {
   "codemirror_mode": {
    "name": "ipython",
    "version": 3
   },
   "file_extension": ".py",
   "mimetype": "text/x-python",
   "name": "python",
   "nbconvert_exporter": "python",
   "pygments_lexer": "ipython3",
   "version": "3.11.6"
  }
 },
 "nbformat": 4,
 "nbformat_minor": 2
}
