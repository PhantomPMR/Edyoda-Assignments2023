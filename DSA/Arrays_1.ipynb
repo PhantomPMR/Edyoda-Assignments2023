{
 "cells": [
  {
   "cell_type": "code",
   "execution_count": 1,
   "metadata": {},
   "outputs": [
    {
     "name": "stdout",
     "output_type": "stream",
     "text": [
      "Pairs with the sum 6 are:\n",
      "1 + 5 = 6\n",
      "2 + 4 = 6\n"
     ]
    }
   ],
   "source": [
    "def find_pairs_with_sum(arr, Target_Sum):\n",
    "    pairs = []\n",
    "    arr.sort()  \n",
    "    left, right = 0, len(arr) - 1\n",
    "\n",
    "    while left < right:\n",
    "        current_sum = arr[left] + arr[right]\n",
    "        if current_sum == Target_Sum:\n",
    "            pairs.append((arr[left], arr[right]))\n",
    "            left += 1\n",
    "            right -= 1\n",
    "        elif current_sum < Target_Sum:\n",
    "            left += 1\n",
    "        else:\n",
    "            right -= 1\n",
    "\n",
    "    return pairs\n",
    "\n",
    "def main():\n",
    "    try:\n",
    "    \n",
    "        input_str = input(\"Enter a list of space-separated integers: \")\n",
    "        arr = list(map(int, input_str.split()))\n",
    "        \n",
    "        target_sum = int(input(\"Enter the target sum: \"))\n",
    "\n",
    "        result = find_pairs_with_sum(arr, target_sum)\n",
    "\n",
    "        if result:\n",
    "            print(\"Pairs with the sum\", target_sum, \"are:\")\n",
    "            for pair in result:\n",
    "                print(pair[0], \"+\", pair[1], \"=\", target_sum)\n",
    "        else:\n",
    "            print(\"No pairs with the sum\", target_sum, \"found in the array.\")\n",
    "\n",
    "    except ValueError:\n",
    "        print(\"Invalid input. Please enter valid integers.\")\n",
    "\n",
    "if __name__ == \"__main__\":\n",
    "    main()"
   ]
  }
 ],
 "metadata": {
  "kernelspec": {
   "display_name": "Python 3",
   "language": "python",
   "name": "python3"
  },
  "language_info": {
   "codemirror_mode": {
    "name": "ipython",
    "version": 3
   },
   "file_extension": ".py",
   "mimetype": "text/x-python",
   "name": "python",
   "nbconvert_exporter": "python",
   "pygments_lexer": "ipython3",
   "version": "3.11.5"
  },
  "orig_nbformat": 4
 },
 "nbformat": 4,
 "nbformat_minor": 2
}
