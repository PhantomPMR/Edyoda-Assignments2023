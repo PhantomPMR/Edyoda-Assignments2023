{
 "cells": [
  {
   "cell_type": "code",
   "execution_count": null,
   "metadata": {},
   "outputs": [],
   "source": [
    "def are_brackets_balanced(code):\n",
    "    stack = []\n",
    "    bracket_pairs = {')': '(', ']': '[', '}': '{'}\n",
    "\n",
    "    for char in code:\n",
    "        if char in '([{':\n",
    "           \n",
    "            stack.append(char)\n",
    "        elif char in ')]}':\n",
    "           \n",
    "            if not stack or stack[-1] != bracket_pairs[char]:\n",
    "                return False\n",
    "            \n",
    "            stack.pop()\n",
    "\n",
    "    return not stack\n",
    "\n",
    "code_snippet = input(\"Enter a code snippet: \")\n",
    "\n",
    "if are_brackets_balanced(code_snippet):\n",
    "    print(\"All brackets are properly closed.\")\n",
    "else:\n",
    "    print(\"Brackets are not properly closed.\")"
   ]
  }
 ],
 "metadata": {
  "language_info": {
   "name": "python"
  },
  "orig_nbformat": 4
 },
 "nbformat": 4,
 "nbformat_minor": 2
}
