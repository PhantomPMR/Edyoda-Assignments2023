{
 "cells": [
  {
   "cell_type": "code",
   "execution_count": null,
   "metadata": {},
   "outputs": [],
   "source": [
    "def is_operator(char):\n",
    "    \n",
    "    return char in \"+-*/\"\n",
    "\n",
    "def prefix_to_infix(prefix_expression):\n",
    "    stack = []\n",
    "\n",
    "  \n",
    "    reversed_expression = prefix_expression[::-1]\n",
    "\n",
    "    for char in reversed_expression:\n",
    "        if not is_operator(char):\n",
    "          \n",
    "            stack.append(char)\n",
    "        else:\n",
    "            \n",
    "            operand1 = stack.pop()\n",
    "            operand2 = stack.pop()\n",
    "            \n",
    "            infix = f\"({operand1}{char}{operand2})\"\n",
    "          \n",
    "            stack.append(infix)\n",
    "\n",
    "    return stack[0]\n",
    "\n",
    "prefix_expression = input(\"Enter a prefix expression: \")\n",
    "\n",
    "infix_expression = prefix_to_infix(prefix_expression)\n",
    "print(\"Infix expression:\", infix_expression)"
   ]
  }
 ],
 "metadata": {
  "language_info": {
   "name": "python"
  },
  "orig_nbformat": 4
 },
 "nbformat": 4,
 "nbformat_minor": 2
}
