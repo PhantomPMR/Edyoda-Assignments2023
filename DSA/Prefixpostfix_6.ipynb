{
 "cells": [
  {
   "cell_type": "code",
   "execution_count": null,
   "metadata": {},
   "outputs": [],
   "source": [
    "def is_operator(char):\n",
    "\n",
    "    return char in \"+-*/\"\n",
    "\n",
    "def postfix_to_prefix(postfix_expression):\n",
    "    stack = []\n",
    "\n",
    "    for char in postfix_expression:\n",
    "        if not is_operator(char):\n",
    "            \n",
    "            stack.append(char)\n",
    "        else:\n",
    "            \n",
    "            operand2 = stack.pop()\n",
    "            operand1 = stack.pop()\n",
    "            \n",
    "            prefix = char + operand1 + operand2\n",
    "            stack.append(prefix)\n",
    "\n",
    "    \n",
    "    return stack[0]\n",
    "\n",
    "\n",
    "postfix_expression = input(\"Enter a postfix expression: \")\n",
    "\n",
    "\n",
    "prefix_expression = postfix_to_prefix(postfix_expression)\n",
    "print(\"Prefix expression:\", prefix_expression)"
   ]
  }
 ],
 "metadata": {
  "language_info": {
   "name": "python"
  },
  "orig_nbformat": 4
 },
 "nbformat": 4,
 "nbformat_minor": 2
}
