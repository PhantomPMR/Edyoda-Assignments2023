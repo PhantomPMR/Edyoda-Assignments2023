{
 "cells": [
  {
   "cell_type": "code",
   "execution_count": null,
   "metadata": {},
   "outputs": [],
   "source": [
    "def reverse_array(arr):\n",
    "    start = 0\n",
    "    end = len(arr) - 1\n",
    "\n",
    "    while start < end:\n",
    "        \n",
    "        arr[start], arr[end] = arr[end], arr[start]\n",
    "\n",
    "    \n",
    "        start += 1\n",
    "        end -= 1\n",
    "\n",
    "\n",
    "input_str = input(\"Enter integers separated by spaces: \")\n",
    "arr = list(map(int, input_str.split()))\n",
    "\n",
    "\n",
    "reverse_array(arr)\n",
    "\n",
    "\n",
    "print(\"Reversed array:\", arr)"
   ]
  }
 ],
 "metadata": {
  "language_info": {
   "name": "python"
  },
  "orig_nbformat": 4
 },
 "nbformat": 4,
 "nbformat_minor": 2
}
