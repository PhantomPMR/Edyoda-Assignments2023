{
 "cells": [
  {
   "cell_type": "code",
   "execution_count": null,
   "metadata": {},
   "outputs": [],
   "source": [
    "class MinStack:\n",
    "    def __init__(self):\n",
    "        self.stack = []  \n",
    "        self.min_stack = []  \n",
    "\n",
    "    def push(self, value):\n",
    "        self.stack.append(value)\n",
    "        if not self.min_stack or value <= self.min_stack[-1]:\n",
    "            self.min_stack.append(value)\n",
    "\n",
    "    def pop(self):\n",
    "        if not self.stack:\n",
    "            return None\n",
    "        if self.stack[-1] == self.min_stack[-1]:\n",
    "            self.min_stack.pop()\n",
    "        return self.stack.pop()\n",
    "\n",
    "    def get_min(self):\n",
    "        if not self.min_stack:\n",
    "            return None\n",
    "        return self.min_stack[-1]\n",
    "\n",
    "\n",
    "stack = MinStack()\n",
    "\n",
    "while True:\n",
    "    user_input = input(\"Enter a number (or 'q' to quit): \")\n",
    "    \n",
    "    if user_input == 'q':\n",
    "        break\n",
    "    \n",
    "    try:\n",
    "        value = int(user_input)\n",
    "        stack.push(value)\n",
    "    except ValueError:\n",
    "        print(\"Invalid input. Please enter a valid number.\")\n",
    "\n",
    "smallest = stack.get_min()\n",
    "if smallest is not None:\n",
    "    print(\"Smallest number:\", smallest)\n",
    "else:\n",
    "    print(\"Stack is empty.\")"
   ]
  }
 ],
 "metadata": {
  "language_info": {
   "name": "python"
  },
  "orig_nbformat": 4
 },
 "nbformat": 4,
 "nbformat_minor": 2
}
