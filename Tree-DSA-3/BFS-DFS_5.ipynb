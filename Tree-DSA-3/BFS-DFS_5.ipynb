{
 "cells": [
  {
   "cell_type": "code",
   "execution_count": 1,
   "metadata": {},
   "outputs": [
    {
     "name": "stdout",
     "output_type": "stream",
     "text": [
      "BFS traversal:\n",
      "1 2 3 4 5 \n",
      "DFS (inorder) traversal:\n",
      "4 2 5 1 3 "
     ]
    }
   ],
   "source": [
    "class TreeNode:\n",
    "    def __init__(self, value):\n",
    "        self.value = value\n",
    "        self.left = None\n",
    "        self.right = None\n",
    "\n",
    "def bfs(root):\n",
    "    if not root:\n",
    "        return\n",
    "    queue = [root]\n",
    "    while queue:\n",
    "        node = queue.pop(0)\n",
    "        print(node.value, end=' ')\n",
    "        if node.left:\n",
    "            queue.append(node.left)\n",
    "        if node.right:\n",
    "            queue.append(node.right)\n",
    "\n",
    "def dfs_inorder(root):\n",
    "    if root:\n",
    "        dfs_inorder(root.left)\n",
    "        print(root.value, end=' ')\n",
    "        dfs_inorder(root.right)\n",
    "\n",
    "def build_binary_tree():\n",
    "    root_value = int(input(\"Enter the value of the root node: \"))\n",
    "    root = TreeNode(root_value)\n",
    "    nodes = [root]\n",
    "\n",
    "    while nodes:\n",
    "        current = nodes.pop(0)\n",
    "        left_value = input(f\"Enter the left child value of {current.value} (or type 'None'): \")\n",
    "        if left_value.lower() != 'none':\n",
    "            current.left = TreeNode(int(left_value))\n",
    "            nodes.append(current.left)\n",
    "\n",
    "        right_value = input(f\"Enter the right child value of {current.value} (or type 'None'): \")\n",
    "        if right_value.lower() != 'none':\n",
    "            current.right = TreeNode(int(right_value))\n",
    "            nodes.append(current.right)\n",
    "\n",
    "    return root\n",
    "\n",
    "root_node = build_binary_tree()\n",
    "\n",
    "print(\"BFS traversal:\")\n",
    "bfs(root_node)\n",
    "\n",
    "print(\"\\nDFS (inorder) traversal:\")\n",
    "dfs_inorder(root_node)\n"
   ]
  }
 ],
 "metadata": {
  "kernelspec": {
   "display_name": "Python 3",
   "language": "python",
   "name": "python3"
  },
  "language_info": {
   "codemirror_mode": {
    "name": "ipython",
    "version": 3
   },
   "file_extension": ".py",
   "mimetype": "text/x-python",
   "name": "python",
   "nbconvert_exporter": "python",
   "pygments_lexer": "ipython3",
   "version": "3.11.6"
  }
 },
 "nbformat": 4,
 "nbformat_minor": 2
}
