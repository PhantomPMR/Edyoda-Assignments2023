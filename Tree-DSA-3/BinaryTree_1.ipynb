{
 "cells": [
  {
   "cell_type": "code",
   "execution_count": 6,
   "metadata": {},
   "outputs": [
    {
     "name": "stdout",
     "output_type": "stream",
     "text": [
      "Enter the elements:\n",
      "\n",
      "Binary Tree Elements:\n",
      "[11, 23, 65, 76, 89, 90, 78]\n"
     ]
    }
   ],
   "source": [
    "class TreeNode:\n",
    "    def __init__(self, key):\n",
    "        self.left = None\n",
    "        self.right = None\n",
    "        self.val = key\n",
    "\n",
    "def insert(root, key):\n",
    "    if root is None:\n",
    "        return TreeNode(key)\n",
    "    else:\n",
    "        if root.val < key:\n",
    "            root.right = insert(root.right, key)\n",
    "        else:\n",
    "            root.left = insert(root.left, key)\n",
    "    return root\n",
    "\n",
    "def build_binary_tree():\n",
    "    tree = []\n",
    "    n = int(input(\"Enter the number of elements in the binary tree: \"))\n",
    "    print(\"Enter the elements:\")\n",
    "    for _ in range(n):\n",
    "        key = int(input())\n",
    "        tree.append(key)\n",
    "    return tree\n",
    "\n",
    "binary_tree = build_binary_tree()\n",
    "print(\"\\nBinary Tree Elements:\")\n",
    "print(binary_tree)\n",
    "\n"
   ]
  }
 ],
 "metadata": {
  "kernelspec": {
   "display_name": "Python 3",
   "language": "python",
   "name": "python3"
  },
  "language_info": {
   "codemirror_mode": {
    "name": "ipython",
    "version": 3
   },
   "file_extension": ".py",
   "mimetype": "text/x-python",
   "name": "python",
   "nbconvert_exporter": "python",
   "pygments_lexer": "ipython3",
   "version": "3.11.6"
  }
 },
 "nbformat": 4,
 "nbformat_minor": 2
}
