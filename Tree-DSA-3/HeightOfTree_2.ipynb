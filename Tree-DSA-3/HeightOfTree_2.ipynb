{
 "cells": [
  {
   "cell_type": "code",
   "execution_count": 1,
   "metadata": {},
   "outputs": [
    {
     "name": "stdout",
     "output_type": "stream",
     "text": [
      "Enter the elements:\n",
      "The height of the binary tree is: 3\n"
     ]
    }
   ],
   "source": [
    "class TreeNode:\n",
    "    def __init__(self, key):\n",
    "        self.left = None\n",
    "        self.right = None\n",
    "        self.val = key\n",
    "\n",
    "def find_height(tree):\n",
    "    if not tree:\n",
    "        return -1\n",
    "\n",
    "    index = 0\n",
    "    level = -1\n",
    "    while index < len(tree):\n",
    "        level_size = 2 ** level\n",
    "        index += level_size\n",
    "        level += 1\n",
    "\n",
    "    return level\n",
    "\n",
    "def build_binary_tree():\n",
    "    tree = []\n",
    "    n = int(input(\"Enter the number of elements in the binary tree: \"))\n",
    "    print(\"Enter the elements:\")\n",
    "    for _ in range(n):\n",
    "        key = int(input())\n",
    "        tree.append(key)\n",
    "    return tree\n",
    "\n",
    "# Example usage:\n",
    "binary_tree = build_binary_tree()\n",
    "height = find_height(binary_tree)\n",
    "print(f\"The height of the binary tree is: {height}\")\n",
    "\n",
    "\n"
   ]
  }
 ],
 "metadata": {
  "kernelspec": {
   "display_name": "Python 3",
   "language": "python",
   "name": "python3"
  },
  "language_info": {
   "codemirror_mode": {
    "name": "ipython",
    "version": 3
   },
   "file_extension": ".py",
   "mimetype": "text/x-python",
   "name": "python",
   "nbconvert_exporter": "python",
   "pygments_lexer": "ipython3",
   "version": "3.11.6"
  }
 },
 "nbformat": 4,
 "nbformat_minor": 2
}
