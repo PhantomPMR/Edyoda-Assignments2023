{
 "cells": [
  {
   "cell_type": "code",
   "execution_count": 2,
   "metadata": {},
   "outputs": [
    {
     "name": "stdout",
     "output_type": "stream",
     "text": [
      "Enter the elements:\n",
      "\n",
      "Leaves of the Binary Tree:\n",
      "4 5 3 "
     ]
    }
   ],
   "source": [
    "class TreeNode:\n",
    "    def __init__(self, key):\n",
    "        self.left = None\n",
    "        self.right = None\n",
    "        self.val = key\n",
    "\n",
    "def print_leaves(tree, index):\n",
    "    if index < len(tree):\n",
    "        if tree[index] is not None:\n",
    "            left_child = 2 * index + 1\n",
    "            right_child = 2 * index + 2\n",
    "            if left_child >= len(tree) and right_child >= len(tree):\n",
    "                print(tree[index], end=\" \")\n",
    "            else:\n",
    "                print_leaves(tree, left_child)\n",
    "                print_leaves(tree, right_child)\n",
    "\n",
    "def build_binary_tree():\n",
    "    tree = []\n",
    "    n = int(input(\"Enter the number of elements in the binary tree: \"))\n",
    "    print(\"Enter the elements:\")\n",
    "    for _ in range(n):\n",
    "        key = int(input())\n",
    "        tree.append(key)\n",
    "    return tree\n",
    "\n",
    "binary_tree = build_binary_tree()\n",
    "\n",
    "print(\"\\nLeaves of the Binary Tree:\")\n",
    "print_leaves(binary_tree, 0)\n",
    "\n",
    "\n"
   ]
  }
 ],
 "metadata": {
  "kernelspec": {
   "display_name": "Python 3",
   "language": "python",
   "name": "python3"
  },
  "language_info": {
   "codemirror_mode": {
    "name": "ipython",
    "version": 3
   },
   "file_extension": ".py",
   "mimetype": "text/x-python",
   "name": "python",
   "nbconvert_exporter": "python",
   "pygments_lexer": "ipython3",
   "version": "3.11.6"
  }
 },
 "nbformat": 4,
 "nbformat_minor": 2
}
